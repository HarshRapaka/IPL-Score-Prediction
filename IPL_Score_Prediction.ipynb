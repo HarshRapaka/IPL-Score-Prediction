{
 "cells": [
  {
   "cell_type": "code",
   "execution_count": 2,
   "id": "3917c85a-d5a7-4c50-a26a-73095af569b1",
   "metadata": {},
   "outputs": [
    {
     "name": "stdout",
     "output_type": "stream",
     "text": [
      "WARNING:tensorflow:From C:\\Users\\Welcome\\AppData\\Roaming\\Python\\Python311\\site-packages\\keras\\src\\losses.py:2976: The name tf.losses.sparse_softmax_cross_entropy is deprecated. Please use tf.compat.v1.losses.sparse_softmax_cross_entropy instead.\n",
      "\n"
     ]
    }
   ],
   "source": [
    "import pandas as pd\n",
    "import numpy as np\n",
    "import matplotlib.pyplot as plt\n",
    "import seaborn as sns\n",
    "from sklearn import preprocessing\n",
    "import keras \n",
    "import tensorflow as tf"
   ]
  },
  {
   "cell_type": "code",
   "execution_count": 3,
   "id": "f3f9dc9f-7c8b-4420-baf8-5ffddfba2a77",
   "metadata": {},
   "outputs": [
    {
     "data": {
      "text/html": [
       "<div>\n",
       "<style scoped>\n",
       "    .dataframe tbody tr th:only-of-type {\n",
       "        vertical-align: middle;\n",
       "    }\n",
       "\n",
       "    .dataframe tbody tr th {\n",
       "        vertical-align: top;\n",
       "    }\n",
       "\n",
       "    .dataframe thead th {\n",
       "        text-align: right;\n",
       "    }\n",
       "</style>\n",
       "<table border=\"1\" class=\"dataframe\">\n",
       "  <thead>\n",
       "    <tr style=\"text-align: right;\">\n",
       "      <th></th>\n",
       "      <th>mid</th>\n",
       "      <th>date</th>\n",
       "      <th>venue</th>\n",
       "      <th>bat_team</th>\n",
       "      <th>bowl_team</th>\n",
       "      <th>batsman</th>\n",
       "      <th>bowler</th>\n",
       "      <th>runs</th>\n",
       "      <th>wickets</th>\n",
       "      <th>overs</th>\n",
       "      <th>runs_last_5</th>\n",
       "      <th>wickets_last_5</th>\n",
       "      <th>striker</th>\n",
       "      <th>non-striker</th>\n",
       "      <th>total</th>\n",
       "    </tr>\n",
       "  </thead>\n",
       "  <tbody>\n",
       "    <tr>\n",
       "      <th>0</th>\n",
       "      <td>1</td>\n",
       "      <td>2008-04-18</td>\n",
       "      <td>M Chinnaswamy Stadium</td>\n",
       "      <td>Kolkata Knight Riders</td>\n",
       "      <td>Royal Challengers Bangalore</td>\n",
       "      <td>SC Ganguly</td>\n",
       "      <td>P Kumar</td>\n",
       "      <td>1</td>\n",
       "      <td>0</td>\n",
       "      <td>0.1</td>\n",
       "      <td>1</td>\n",
       "      <td>0</td>\n",
       "      <td>0</td>\n",
       "      <td>0</td>\n",
       "      <td>222</td>\n",
       "    </tr>\n",
       "    <tr>\n",
       "      <th>1</th>\n",
       "      <td>1</td>\n",
       "      <td>2008-04-18</td>\n",
       "      <td>M Chinnaswamy Stadium</td>\n",
       "      <td>Kolkata Knight Riders</td>\n",
       "      <td>Royal Challengers Bangalore</td>\n",
       "      <td>BB McCullum</td>\n",
       "      <td>P Kumar</td>\n",
       "      <td>1</td>\n",
       "      <td>0</td>\n",
       "      <td>0.2</td>\n",
       "      <td>1</td>\n",
       "      <td>0</td>\n",
       "      <td>0</td>\n",
       "      <td>0</td>\n",
       "      <td>222</td>\n",
       "    </tr>\n",
       "    <tr>\n",
       "      <th>2</th>\n",
       "      <td>1</td>\n",
       "      <td>2008-04-18</td>\n",
       "      <td>M Chinnaswamy Stadium</td>\n",
       "      <td>Kolkata Knight Riders</td>\n",
       "      <td>Royal Challengers Bangalore</td>\n",
       "      <td>BB McCullum</td>\n",
       "      <td>P Kumar</td>\n",
       "      <td>2</td>\n",
       "      <td>0</td>\n",
       "      <td>0.2</td>\n",
       "      <td>2</td>\n",
       "      <td>0</td>\n",
       "      <td>0</td>\n",
       "      <td>0</td>\n",
       "      <td>222</td>\n",
       "    </tr>\n",
       "    <tr>\n",
       "      <th>3</th>\n",
       "      <td>1</td>\n",
       "      <td>2008-04-18</td>\n",
       "      <td>M Chinnaswamy Stadium</td>\n",
       "      <td>Kolkata Knight Riders</td>\n",
       "      <td>Royal Challengers Bangalore</td>\n",
       "      <td>BB McCullum</td>\n",
       "      <td>P Kumar</td>\n",
       "      <td>2</td>\n",
       "      <td>0</td>\n",
       "      <td>0.3</td>\n",
       "      <td>2</td>\n",
       "      <td>0</td>\n",
       "      <td>0</td>\n",
       "      <td>0</td>\n",
       "      <td>222</td>\n",
       "    </tr>\n",
       "    <tr>\n",
       "      <th>4</th>\n",
       "      <td>1</td>\n",
       "      <td>2008-04-18</td>\n",
       "      <td>M Chinnaswamy Stadium</td>\n",
       "      <td>Kolkata Knight Riders</td>\n",
       "      <td>Royal Challengers Bangalore</td>\n",
       "      <td>BB McCullum</td>\n",
       "      <td>P Kumar</td>\n",
       "      <td>2</td>\n",
       "      <td>0</td>\n",
       "      <td>0.4</td>\n",
       "      <td>2</td>\n",
       "      <td>0</td>\n",
       "      <td>0</td>\n",
       "      <td>0</td>\n",
       "      <td>222</td>\n",
       "    </tr>\n",
       "  </tbody>\n",
       "</table>\n",
       "</div>"
      ],
      "text/plain": [
       "   mid        date                  venue               bat_team  \\\n",
       "0    1  2008-04-18  M Chinnaswamy Stadium  Kolkata Knight Riders   \n",
       "1    1  2008-04-18  M Chinnaswamy Stadium  Kolkata Knight Riders   \n",
       "2    1  2008-04-18  M Chinnaswamy Stadium  Kolkata Knight Riders   \n",
       "3    1  2008-04-18  M Chinnaswamy Stadium  Kolkata Knight Riders   \n",
       "4    1  2008-04-18  M Chinnaswamy Stadium  Kolkata Knight Riders   \n",
       "\n",
       "                     bowl_team      batsman   bowler  runs  wickets  overs  \\\n",
       "0  Royal Challengers Bangalore   SC Ganguly  P Kumar     1        0    0.1   \n",
       "1  Royal Challengers Bangalore  BB McCullum  P Kumar     1        0    0.2   \n",
       "2  Royal Challengers Bangalore  BB McCullum  P Kumar     2        0    0.2   \n",
       "3  Royal Challengers Bangalore  BB McCullum  P Kumar     2        0    0.3   \n",
       "4  Royal Challengers Bangalore  BB McCullum  P Kumar     2        0    0.4   \n",
       "\n",
       "   runs_last_5  wickets_last_5  striker  non-striker  total  \n",
       "0            1               0        0            0    222  \n",
       "1            1               0        0            0    222  \n",
       "2            2               0        0            0    222  \n",
       "3            2               0        0            0    222  \n",
       "4            2               0        0            0    222  "
      ]
     },
     "execution_count": 3,
     "metadata": {},
     "output_type": "execute_result"
    }
   ],
   "source": [
    "ipl = pd.read_csv('ipl_data.csv')\n",
    "ipl.head()"
   ]
  },
  {
   "cell_type": "code",
   "execution_count": 4,
   "id": "108bde49-e9de-4d02-afea-2ebb14eb37ac",
   "metadata": {},
   "outputs": [],
   "source": [
    "#Dropping certain features \n",
    "df = ipl.drop(['date', 'runs', 'wickets', 'overs', 'runs_last_5', 'wickets_last_5','mid', 'striker', 'non-striker'], axis =1)"
   ]
  },
  {
   "cell_type": "code",
   "execution_count": 5,
   "id": "12996ba2-32c1-4816-b3c8-8647e83a9a84",
   "metadata": {},
   "outputs": [],
   "source": [
    "X = df.drop(['total'], axis =1)\n",
    "y = df['total']"
   ]
  },
  {
   "cell_type": "code",
   "execution_count": 6,
   "id": "3e1591df-c9ca-4c5f-a562-16c3c896621a",
   "metadata": {},
   "outputs": [],
   "source": [
    "#Label Encoding\n",
    "\n",
    "from sklearn.preprocessing import LabelEncoder\n",
    "\n",
    "# Create a LabelEncoder object for each categorical feature\n",
    "venue_encoder = LabelEncoder()\n",
    "batting_team_encoder = LabelEncoder()\n",
    "bowling_team_encoder = LabelEncoder()\n",
    "striker_encoder = LabelEncoder()\n",
    "bowler_encoder = LabelEncoder()\n",
    "\n",
    "# Fit and transform the categorical features with label encoding\n",
    "X['venue'] = venue_encoder.fit_transform(X['venue'])\n",
    "X['bat_team'] = batting_team_encoder.fit_transform(X['bat_team'])\n",
    "X['bowl_team'] = bowling_team_encoder.fit_transform(X['bowl_team'])\n",
    "X['batsman'] = striker_encoder.fit_transform(X['batsman'])\n",
    "X['bowler'] = bowler_encoder.fit_transform(X['bowler'])"
   ]
  },
  {
   "cell_type": "code",
   "execution_count": 7,
   "id": "115b0914-65da-4257-95b8-a1b4248f4d62",
   "metadata": {},
   "outputs": [],
   "source": [
    "# Train test Split \n",
    "from sklearn.model_selection import train_test_split\n",
    "X_train, X_test, y_train, y_test = train_test_split(X, y, test_size=0.3, random_state=42)"
   ]
  },
  {
   "cell_type": "code",
   "execution_count": 8,
   "id": "007b25eb-674a-460c-90f4-40e6540a05eb",
   "metadata": {},
   "outputs": [],
   "source": [
    "from sklearn.preprocessing import MinMaxScaler\n",
    "\n",
    "scaler = MinMaxScaler()\n",
    "\n",
    "# Fit the scaler on the training data and transform both training and testing data\n",
    "X_train_scaled = scaler.fit_transform(X_train)\n",
    "X_test_scaled = scaler.transform(X_test)"
   ]
  },
  {
   "cell_type": "code",
   "execution_count": 9,
   "id": "e6f64ab8-70ad-4357-92d9-29fa6c0a63b8",
   "metadata": {},
   "outputs": [
    {
     "name": "stdout",
     "output_type": "stream",
     "text": [
      "WARNING:tensorflow:From C:\\Users\\Welcome\\AppData\\Roaming\\Python\\Python311\\site-packages\\keras\\src\\backend.py:1398: The name tf.executing_eagerly_outside_functions is deprecated. Please use tf.compat.v1.executing_eagerly_outside_functions instead.\n",
      "\n",
      "WARNING:tensorflow:From C:\\Users\\Welcome\\AppData\\Roaming\\Python\\Python311\\site-packages\\keras\\src\\optimizers\\__init__.py:309: The name tf.train.Optimizer is deprecated. Please use tf.compat.v1.train.Optimizer instead.\n",
      "\n"
     ]
    }
   ],
   "source": [
    "# Define the neural network model\n",
    "model = keras.Sequential([\n",
    "    keras.layers.Input( shape=(X_train_scaled.shape[1],)),  # Input layer\n",
    "    keras.layers.Dense(512, activation='relu'),  # Hidden layer with 512 units and ReLU activation\n",
    "    keras.layers.Dense(216, activation='relu'),  # Hidden layer with 216 units and ReLU activation\n",
    "    keras.layers.Dense(1, activation='linear')  # Output layer with linear activation for regression\n",
    "])\n",
    "\n",
    "# Compile the model with Huber loss\n",
    "huber_loss = tf.keras.losses.Huber(delta=1.0)  # You can adjust the 'delta' parameter as needed\n",
    "model.compile(optimizer='adam', loss=huber_loss)  # Use Huber loss for regression"
   ]
  },
  {
   "cell_type": "code",
   "execution_count": 10,
   "id": "e051768a-247a-4f1d-8406-ced2aff858e2",
   "metadata": {},
   "outputs": [
    {
     "name": "stdout",
     "output_type": "stream",
     "text": [
      "Epoch 1/50\n",
      "WARNING:tensorflow:From C:\\Users\\Welcome\\AppData\\Roaming\\Python\\Python311\\site-packages\\keras\\src\\utils\\tf_utils.py:492: The name tf.ragged.RaggedTensorValue is deprecated. Please use tf.compat.v1.ragged.RaggedTensorValue instead.\n",
      "\n",
      "832/832 [==============================] - 5s 4ms/step - loss: 32.4363 - val_loss: 22.3434\n",
      "Epoch 2/50\n",
      "832/832 [==============================] - 3s 3ms/step - loss: 22.3655 - val_loss: 22.0813\n",
      "Epoch 3/50\n",
      "832/832 [==============================] - 3s 3ms/step - loss: 22.3001 - val_loss: 21.9405\n",
      "Epoch 4/50\n",
      "832/832 [==============================] - 3s 4ms/step - loss: 22.2389 - val_loss: 21.9256\n",
      "Epoch 5/50\n",
      "832/832 [==============================] - 3s 3ms/step - loss: 22.2637 - val_loss: 21.8757\n",
      "Epoch 6/50\n",
      "832/832 [==============================] - 3s 3ms/step - loss: 22.1949 - val_loss: 22.0751\n",
      "Epoch 7/50\n",
      "832/832 [==============================] - 3s 4ms/step - loss: 22.1869 - val_loss: 21.8854\n",
      "Epoch 8/50\n",
      "832/832 [==============================] - 3s 3ms/step - loss: 22.1384 - val_loss: 21.9213\n",
      "Epoch 9/50\n",
      "832/832 [==============================] - 3s 3ms/step - loss: 22.1094 - val_loss: 22.0686\n",
      "Epoch 10/50\n",
      "832/832 [==============================] - 3s 4ms/step - loss: 22.1184 - val_loss: 21.8188\n",
      "Epoch 11/50\n",
      "832/832 [==============================] - 3s 3ms/step - loss: 22.1325 - val_loss: 21.7938\n",
      "Epoch 12/50\n",
      "832/832 [==============================] - 3s 3ms/step - loss: 22.0845 - val_loss: 21.7845\n",
      "Epoch 13/50\n",
      "832/832 [==============================] - 3s 3ms/step - loss: 22.0936 - val_loss: 21.8740\n",
      "Epoch 14/50\n",
      "832/832 [==============================] - 3s 3ms/step - loss: 22.0973 - val_loss: 21.9152\n",
      "Epoch 15/50\n",
      "832/832 [==============================] - 3s 4ms/step - loss: 22.0565 - val_loss: 21.8941\n",
      "Epoch 16/50\n",
      "832/832 [==============================] - 3s 4ms/step - loss: 22.0801 - val_loss: 21.7603\n",
      "Epoch 17/50\n",
      "832/832 [==============================] - 3s 4ms/step - loss: 22.0812 - val_loss: 22.3668\n",
      "Epoch 18/50\n",
      "832/832 [==============================] - 3s 3ms/step - loss: 22.0691 - val_loss: 21.8896\n",
      "Epoch 19/50\n",
      "832/832 [==============================] - 3s 4ms/step - loss: 21.9976 - val_loss: 21.6778\n",
      "Epoch 20/50\n",
      "832/832 [==============================] - 3s 3ms/step - loss: 21.9100 - val_loss: 22.2383\n",
      "Epoch 21/50\n",
      "832/832 [==============================] - 3s 4ms/step - loss: 21.8006 - val_loss: 21.4891\n",
      "Epoch 22/50\n",
      "832/832 [==============================] - 3s 3ms/step - loss: 21.7176 - val_loss: 21.6182\n",
      "Epoch 23/50\n",
      "832/832 [==============================] - 3s 4ms/step - loss: 21.6643 - val_loss: 21.4790\n",
      "Epoch 24/50\n",
      "832/832 [==============================] - 3s 4ms/step - loss: 21.6381 - val_loss: 21.3497\n",
      "Epoch 25/50\n",
      "832/832 [==============================] - 3s 3ms/step - loss: 21.5982 - val_loss: 21.4624\n",
      "Epoch 26/50\n",
      "832/832 [==============================] - 3s 3ms/step - loss: 21.5128 - val_loss: 21.2586\n",
      "Epoch 27/50\n",
      "832/832 [==============================] - 3s 3ms/step - loss: 21.4462 - val_loss: 21.1165\n",
      "Epoch 28/50\n",
      "832/832 [==============================] - 3s 3ms/step - loss: 21.3948 - val_loss: 21.2906\n",
      "Epoch 29/50\n",
      "832/832 [==============================] - 3s 4ms/step - loss: 21.3559 - val_loss: 21.1545\n",
      "Epoch 30/50\n",
      "832/832 [==============================] - 3s 3ms/step - loss: 21.2695 - val_loss: 21.0016\n",
      "Epoch 31/50\n",
      "832/832 [==============================] - 3s 4ms/step - loss: 21.2317 - val_loss: 20.9930\n",
      "Epoch 32/50\n",
      "832/832 [==============================] - 3s 4ms/step - loss: 21.1726 - val_loss: 21.0339\n",
      "Epoch 33/50\n",
      "832/832 [==============================] - 3s 3ms/step - loss: 21.1130 - val_loss: 20.7928\n",
      "Epoch 34/50\n",
      "832/832 [==============================] - 3s 4ms/step - loss: 21.0142 - val_loss: 20.8199\n",
      "Epoch 35/50\n",
      "832/832 [==============================] - 3s 4ms/step - loss: 20.9500 - val_loss: 20.6797\n",
      "Epoch 36/50\n",
      "832/832 [==============================] - 3s 4ms/step - loss: 20.9011 - val_loss: 20.6103\n",
      "Epoch 37/50\n",
      "832/832 [==============================] - 3s 3ms/step - loss: 20.8139 - val_loss: 20.6139\n",
      "Epoch 38/50\n",
      "832/832 [==============================] - 3s 3ms/step - loss: 20.6630 - val_loss: 20.5007\n",
      "Epoch 39/50\n",
      "832/832 [==============================] - 3s 4ms/step - loss: 20.5949 - val_loss: 20.5131\n",
      "Epoch 40/50\n",
      "832/832 [==============================] - 3s 4ms/step - loss: 20.4210 - val_loss: 20.3466\n",
      "Epoch 41/50\n",
      "832/832 [==============================] - 3s 4ms/step - loss: 20.2900 - val_loss: 20.0771\n",
      "Epoch 42/50\n",
      "832/832 [==============================] - 3s 4ms/step - loss: 20.1438 - val_loss: 19.8716\n",
      "Epoch 43/50\n",
      "832/832 [==============================] - 3s 4ms/step - loss: 20.0063 - val_loss: 19.9914\n",
      "Epoch 44/50\n",
      "832/832 [==============================] - 3s 3ms/step - loss: 19.8177 - val_loss: 19.5842\n",
      "Epoch 45/50\n",
      "832/832 [==============================] - 3s 4ms/step - loss: 19.7539 - val_loss: 19.5911\n",
      "Epoch 46/50\n",
      "832/832 [==============================] - 3s 3ms/step - loss: 19.6209 - val_loss: 19.4458\n",
      "Epoch 47/50\n",
      "832/832 [==============================] - 3s 3ms/step - loss: 19.4707 - val_loss: 19.2657\n",
      "Epoch 48/50\n",
      "832/832 [==============================] - 3s 4ms/step - loss: 19.3657 - val_loss: 19.4521\n",
      "Epoch 49/50\n",
      "832/832 [==============================] - 3s 4ms/step - loss: 19.2698 - val_loss: 19.0047\n",
      "Epoch 50/50\n",
      "832/832 [==============================] - 3s 3ms/step - loss: 19.2023 - val_loss: 19.3302\n"
     ]
    },
    {
     "data": {
      "text/plain": [
       "<keras.src.callbacks.History at 0x20277633850>"
      ]
     },
     "execution_count": 10,
     "metadata": {},
     "output_type": "execute_result"
    }
   ],
   "source": [
    "# Train the model\n",
    "model.fit(X_train_scaled, y_train, epochs=50, batch_size=64, validation_data=(X_test_scaled, y_test))"
   ]
  },
  {
   "cell_type": "code",
   "execution_count": null,
   "id": "b3b140c4-062d-4625-991b-e59e4efe52d2",
   "metadata": {},
   "outputs": [],
   "source": [
    "model_losses = pd.DataFrame(model.history.history)\n",
    "model_losses.plot()"
   ]
  },
  {
   "cell_type": "code",
   "execution_count": null,
   "id": "1d0206e7-cf3a-49d7-8d19-13a3f66ee555",
   "metadata": {},
   "outputs": [],
   "source": [
    "# Make predictions\n",
    "predictions = model.predict(X_test_scaled)\n",
    "\n",
    "from sklearn.metrics import mean_absolute_error,mean_squared_error\n",
    "mean_absolute_error(y_test,predictions)"
   ]
  },
  {
   "cell_type": "code",
   "execution_count": null,
   "id": "c65206a7-4477-4bc5-90bb-1b5d77dcb40f",
   "metadata": {},
   "outputs": [],
   "source": [
    "import ipywidgets as widgets\n",
    "from IPython.display import display, clear_output\n",
    "\n",
    "import warnings\n",
    "warnings.filterwarnings(\"ignore\")\n",
    "\n",
    "venue = widgets.Dropdown(options=df['venue'].unique().tolist(),description='Select Venue:')\n",
    "batting_team = widgets.Dropdown(options =df['bat_team'].unique().tolist(),  description='Select Batting Team:')\n",
    "bowling_team = widgets.Dropdown(options=df['bowl_team'].unique().tolist(),  description='Select Batting Team:')\n",
    "striker = widgets.Dropdown(options=df['batsman'].unique().tolist(), description='Select Striker:')\n",
    "bowler = widgets.Dropdown(options=df['bowler'].unique().tolist(), description='Select Bowler:')\n",
    "\n",
    "predict_button = widgets.Button(description=\"Predict Score\")\n",
    "\n",
    "def predict_score(b):\n",
    "    with output:\n",
    "        clear_output()  # Clear the previous output\n",
    "        \n",
    "\n",
    "        # Decode the encoded values back to their original values\n",
    "        decoded_venue = venue_encoder.transform([venue.value])\n",
    "        decoded_batting_team = batting_team_encoder.transform([batting_team.value])\n",
    "        decoded_bowling_team = bowling_team_encoder.transform([bowling_team.value])\n",
    "        decoded_striker = striker_encoder.transform([striker.value])\n",
    "        decoded_bowler = bowler_encoder.transform([bowler.value])\n",
    "\n",
    "\n",
    "        input = np.array([decoded_venue,  decoded_batting_team, decoded_bowling_team,decoded_striker, decoded_bowler])\n",
    "        input = input.reshape(1,5)\n",
    "        input = scaler.transform(input)\n",
    "        #print(input)\n",
    "        predicted_score = model.predict(input)\n",
    "        predicted_score = int(predicted_score[0,0])\n",
    "\n",
    "        print(predicted_score)"
   ]
  },
  {
   "cell_type": "code",
   "execution_count": null,
   "id": "2545c785-d7ab-4f8e-9506-1c009ca5bc40",
   "metadata": {},
   "outputs": [],
   "source": [
    "predict_button.on_click(predict_score)\n",
    "output = widgets.Output()\n",
    "display(venue, batting_team, bowling_team, striker, bowler, predict_button, output)"
   ]
  },
  {
   "cell_type": "code",
   "execution_count": null,
   "id": "2cc5029b-088c-4205-a52d-44631e6604e1",
   "metadata": {},
   "outputs": [],
   "source": [
    "#!pip install ipywidgets\n"
   ]
  },
  {
   "cell_type": "code",
   "execution_count": null,
   "id": "35db7562-93f4-4d8f-ae09-793720201627",
   "metadata": {},
   "outputs": [],
   "source": [
    "#!pip install jupyterlab_widgets\n"
   ]
  },
  {
   "cell_type": "code",
   "execution_count": null,
   "id": "21a4bc7d-7d18-4117-86b5-e04ac945f4cc",
   "metadata": {},
   "outputs": [],
   "source": [
    "#!jupyter labextension list\n"
   ]
  },
  {
   "cell_type": "code",
   "execution_count": null,
   "id": "35dc1316-cab5-4872-850e-510239c1152c",
   "metadata": {},
   "outputs": [],
   "source": [
    "#!jupyter labextension install @jupyter-widgets/jupyterlab-manager\n"
   ]
  },
  {
   "cell_type": "code",
   "execution_count": null,
   "id": "67ea5afa-91db-42a6-a495-3ae5cdd3dd06",
   "metadata": {},
   "outputs": [],
   "source": [
    "#!pip install ipywidgets==7.7.2\n",
    "#!jupyter labextension install @jupyter-widgets/jupyterlab-manager@3.0\n"
   ]
  },
  {
   "cell_type": "code",
   "execution_count": null,
   "id": "6cd6a746-6578-439f-85cb-197a3955cefa",
   "metadata": {},
   "outputs": [],
   "source": []
  }
 ],
 "metadata": {
  "kernelspec": {
   "display_name": "Python 3 (ipykernel)",
   "language": "python",
   "name": "python3"
  },
  "language_info": {
   "codemirror_mode": {
    "name": "ipython",
    "version": 3
   },
   "file_extension": ".py",
   "mimetype": "text/x-python",
   "name": "python",
   "nbconvert_exporter": "python",
   "pygments_lexer": "ipython3",
   "version": "3.11.7"
  }
 },
 "nbformat": 4,
 "nbformat_minor": 5
}
